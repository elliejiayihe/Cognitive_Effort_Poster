{
 "cells": [
  {
   "cell_type": "markdown",
   "id": "bbae37e1",
   "metadata": {},
   "source": [
    "\n",
    "# Cognitive Effort Poster\n",
    "\n",
    "Columns used:\n",
    "- `condition`: `neg` or `neu`\n",
    "- `response`: `easy` or `hard`\n",
    "- `itemhit`: word hit rate\n",
    "- `pairhit`: pair hit rate\n",
    "\n",
    "Figures:\n",
    "1. **1A. Word:** Hard vs Easy (expect Hard > Easy)\n",
    "2. **1B. Pair:** Easy vs Hard (expect Easy > Hard)\n",
    "3. **2A. Easy Words:** Negative vs Neutral (expect n.s. ~0.16)\n",
    "4. **2B. Easy Pairs:** Negative vs Neutral (expect p ~ 0.04)\n"
   ]
  },
  {
   "cell_type": "code",
   "execution_count": 1,
   "id": "3823f5eb",
   "metadata": {},
   "outputs": [],
   "source": [
    "# 0) Imports and file path (keep it simple)\n",
    "import pandas as pd\n",
    "import numpy as np\n",
    "import matplotlib.pyplot as plt\n",
    "from scipy import stats\n",
    "\n",
    "DATA_FILE = \"taskanalysis_copy.xlsx\"\n",
    "SHEET_NAME = \"Sheet1\"  # <-- you told me it's Sheet1\n"
   ]
  },
  {
   "cell_type": "code",
   "execution_count": 2,
   "id": "5570e8fb",
   "metadata": {},
   "outputs": [
    {
     "name": "stdout",
     "output_type": "stream",
     "text": [
      "Value counts:\n",
      "condition ->\n",
      "neg    24\n",
      "neu    19\n",
      "Name: condition, dtype: int64\n",
      "\n",
      "response  ->\n",
      "easy    22\n",
      "hard    21\n",
      "Name: response, dtype: int64\n"
     ]
    },
    {
     "data": {
      "text/html": [
       "<div>\n",
       "<style scoped>\n",
       "    .dataframe tbody tr th:only-of-type {\n",
       "        vertical-align: middle;\n",
       "    }\n",
       "\n",
       "    .dataframe tbody tr th {\n",
       "        vertical-align: top;\n",
       "    }\n",
       "\n",
       "    .dataframe thead th {\n",
       "        text-align: right;\n",
       "    }\n",
       "</style>\n",
       "<table border=\"1\" class=\"dataframe\">\n",
       "  <thead>\n",
       "    <tr style=\"text-align: right;\">\n",
       "      <th></th>\n",
       "      <th>Row Labels</th>\n",
       "      <th>condition</th>\n",
       "      <th>response</th>\n",
       "      <th>pairhit</th>\n",
       "      <th>pairfar</th>\n",
       "      <th>itemhit</th>\n",
       "      <th>itemhitrelative</th>\n",
       "      <th>numberitemresponses</th>\n",
       "      <th>pairhitrelative</th>\n",
       "      <th>pairfarelative</th>\n",
       "      <th>numberpairtargets</th>\n",
       "      <th>numberpairlures</th>\n",
       "    </tr>\n",
       "  </thead>\n",
       "  <tbody>\n",
       "    <tr>\n",
       "      <th>0</th>\n",
       "      <td>PEA_06_01</td>\n",
       "      <td>neg</td>\n",
       "      <td>easy</td>\n",
       "      <td>0.366667</td>\n",
       "      <td>0.233333</td>\n",
       "      <td>0.425000</td>\n",
       "      <td>0.689189</td>\n",
       "      <td>74</td>\n",
       "      <td>0.758621</td>\n",
       "      <td>0.411765</td>\n",
       "      <td>29</td>\n",
       "      <td>17</td>\n",
       "    </tr>\n",
       "    <tr>\n",
       "      <th>1</th>\n",
       "      <td>PEA_08_01</td>\n",
       "      <td>neg</td>\n",
       "      <td>easy</td>\n",
       "      <td>0.666667</td>\n",
       "      <td>0.066667</td>\n",
       "      <td>0.758333</td>\n",
       "      <td>0.758333</td>\n",
       "      <td>120</td>\n",
       "      <td>0.888889</td>\n",
       "      <td>0.100000</td>\n",
       "      <td>45</td>\n",
       "      <td>20</td>\n",
       "    </tr>\n",
       "    <tr>\n",
       "      <th>2</th>\n",
       "      <td>PEA_10_01</td>\n",
       "      <td>neg</td>\n",
       "      <td>easy</td>\n",
       "      <td>0.466667</td>\n",
       "      <td>0.033333</td>\n",
       "      <td>0.650000</td>\n",
       "      <td>0.678261</td>\n",
       "      <td>115</td>\n",
       "      <td>0.736842</td>\n",
       "      <td>0.066667</td>\n",
       "      <td>38</td>\n",
       "      <td>15</td>\n",
       "    </tr>\n",
       "    <tr>\n",
       "      <th>3</th>\n",
       "      <td>PEA_12_01</td>\n",
       "      <td>neg</td>\n",
       "      <td>easy</td>\n",
       "      <td>0.633333</td>\n",
       "      <td>0.133333</td>\n",
       "      <td>0.858333</td>\n",
       "      <td>0.880342</td>\n",
       "      <td>117</td>\n",
       "      <td>0.863636</td>\n",
       "      <td>0.190476</td>\n",
       "      <td>44</td>\n",
       "      <td>21</td>\n",
       "    </tr>\n",
       "    <tr>\n",
       "      <th>4</th>\n",
       "      <td>PEA_17_01</td>\n",
       "      <td>neg</td>\n",
       "      <td>easy</td>\n",
       "      <td>0.666667</td>\n",
       "      <td>0.233333</td>\n",
       "      <td>0.758333</td>\n",
       "      <td>0.758333</td>\n",
       "      <td>120</td>\n",
       "      <td>0.784314</td>\n",
       "      <td>0.304348</td>\n",
       "      <td>51</td>\n",
       "      <td>23</td>\n",
       "    </tr>\n",
       "  </tbody>\n",
       "</table>\n",
       "</div>"
      ],
      "text/plain": [
       "  Row Labels condition response   pairhit   pairfar   itemhit  \\\n",
       "0  PEA_06_01       neg     easy  0.366667  0.233333  0.425000   \n",
       "1  PEA_08_01       neg     easy  0.666667  0.066667  0.758333   \n",
       "2  PEA_10_01       neg     easy  0.466667  0.033333  0.650000   \n",
       "3  PEA_12_01       neg     easy  0.633333  0.133333  0.858333   \n",
       "4  PEA_17_01       neg     easy  0.666667  0.233333  0.758333   \n",
       "\n",
       "   itemhitrelative  numberitemresponses  pairhitrelative  pairfarelative  \\\n",
       "0         0.689189                   74         0.758621        0.411765   \n",
       "1         0.758333                  120         0.888889        0.100000   \n",
       "2         0.678261                  115         0.736842        0.066667   \n",
       "3         0.880342                  117         0.863636        0.190476   \n",
       "4         0.758333                  120         0.784314        0.304348   \n",
       "\n",
       "   numberpairtargets  numberpairlures  \n",
       "0                 29               17  \n",
       "1                 45               20  \n",
       "2                 38               15  \n",
       "3                 44               21  \n",
       "4                 51               23  "
      ]
     },
     "execution_count": 2,
     "metadata": {},
     "output_type": "execute_result"
    }
   ],
   "source": [
    "\n",
    "# 1) Load the data\n",
    "df = pd.read_excel(DATA_FILE, sheet_name=SHEET_NAME)\n",
    "\n",
    "# make sure key columns exist\n",
    "needed = [\"condition\", \"response\", \"itemhit\", \"pairhit\"]\n",
    "missing = [c for c in needed if c not in df.columns]\n",
    "if missing:\n",
    "    raise ValueError(f\"These columns are missing: {missing}\")\n",
    "\n",
    "# normalize text (lowercase)\n",
    "df[\"condition\"] = df[\"condition\"].astype(str).str.strip().str.lower()\n",
    "df[\"response\"]  = df[\"response\"].astype(str).str.strip().str.lower()\n",
    "\n",
    "print(\"Value counts:\")\n",
    "print(\"condition ->\")\n",
    "print(df[\"condition\"].value_counts(dropna=False))\n",
    "print(\"\\nresponse  ->\")\n",
    "print(df[\"response\"].value_counts(dropna=False))\n",
    "\n",
    "df.head()\n"
   ]
  },
  {
   "cell_type": "code",
   "execution_count": 3,
   "id": "114cc5ce",
   "metadata": {},
   "outputs": [],
   "source": [
    "\n",
    "# 2) A small helper to get means/SE and a t-test\n",
    "def group_stats(series):\n",
    "    s = pd.to_numeric(series, errors=\"coerce\").dropna()\n",
    "    mean = s.mean()\n",
    "    se = s.std(ddof=1) / np.sqrt(len(s)) if len(s) > 1 else np.nan\n",
    "    return mean, se, len(s)\n",
    "\n",
    "def two_group_ttest(a, b):\n",
    "    a = pd.to_numeric(a, errors=\"coerce\").dropna()\n",
    "    b = pd.to_numeric(b, errors=\"coerce\").dropna()\n",
    "    if len(a) < 2 or len(b) < 2:\n",
    "        return np.nan\n",
    "    t, p = stats.ttest_ind(a, b, equal_var=False, nan_policy=\"omit\")\n",
    "    return p\n"
   ]
  },
  {
   "cell_type": "markdown",
   "id": "29e47833",
   "metadata": {},
   "source": [
    "## 1A. Words — Hard vs Easy"
   ]
  },
  {
   "cell_type": "code",
   "execution_count": 4,
   "id": "91fb6426",
   "metadata": {},
   "outputs": [
    {
     "data": {
      "image/png": "[encoded data removed]",
      "text/plain": [
       "<Figure size 600x400 with 1 Axes>"
      ]
     },
     "metadata": {},
     "output_type": "display_data"
    },
    {
     "name": "stdout",
     "output_type": "stream",
     "text": [
      "1A p-value (Hard vs Easy, Words) = 0.0000 | n_easy=22, n_hard=15\n"
     ]
    }
   ],
   "source": [
    "\n",
    "# Filter words by response groups\n",
    "w_easy = df.loc[df[\"response\"]==\"easy\", \"itemhit\"]\n",
    "w_hard = df.loc[df[\"response\"]==\"hard\", \"itemhit\"]\n",
    "\n",
    "m_easy, se_easy, n_easy = group_stats(w_easy)\n",
    "m_hard, se_hard, n_hard = group_stats(w_hard)\n",
    "p_1a = two_group_ttest(w_hard, w_easy)\n",
    "\n",
    "# Bar plot\n",
    "fig, ax = plt.subplots(figsize=(6,4))\n",
    "means = [m_easy, m_hard]\n",
    "ses   = [se_easy, se_hard]\n",
    "labels = [\"Easy\", \"Hard\"]\n",
    "\n",
    "x = np.arange(2)\n",
    "ax.bar(x, means, yerr=ses, capsize=6)\n",
    "ax.set_xticks(x)\n",
    "ax.set_xticklabels(labels)\n",
    "ax.set_ylim(0, 1.05)\n",
    "ax.set_ylabel(\"Word Hit Rate\")\n",
    "ax.set_title(\"1A. Word Hit Rate — Hard vs Easy\")\n",
    "\n",
    "plt.tight_layout()\n",
    "plt.savefig(\"Fig1A_Word_HitRate.png\", dpi=300)\n",
    "plt.show()\n",
    "\n",
    "print(f\"1A p-value (Hard vs Easy, Words) = {p_1a:.4f} | n_easy={n_easy}, n_hard={n_hard}\")\n"
   ]
  },
  {
   "cell_type": "markdown",
   "id": "b9775436",
   "metadata": {},
   "source": [
    "## 1B. Pairs — Easy vs Hard"
   ]
  },
  {
   "cell_type": "code",
   "execution_count": 5,
   "id": "52ceb590",
   "metadata": {},
   "outputs": [
    {
     "data": {
      "image/png": "[encoded data removed]",
      "text/plain": [
       "<Figure size 600x400 with 1 Axes>"
      ]
     },
     "metadata": {},
     "output_type": "display_data"
    },
    {
     "name": "stdout",
     "output_type": "stream",
     "text": [
      "1B p-value (Easy vs Hard, Pairs) = 0.0000 | n_easy=22, n_hard=21\n"
     ]
    }
   ],
   "source": [
    "\n",
    "p_easy = df.loc[df['response']==\"easy\", \"pairhit\"]\n",
    "p_hard = df.loc[df['response']==\"hard\", \"pairhit\"]\n",
    "\n",
    "m_easy, se_easy, n_easy = group_stats(p_easy)\n",
    "m_hard, se_hard, n_hard = group_stats(p_hard)\n",
    "p_1b = two_group_ttest(p_easy, p_hard)\n",
    "\n",
    "fig, ax = plt.subplots(figsize=(6,4))\n",
    "means = [m_easy, m_hard]\n",
    "ses   = [se_easy, se_hard]\n",
    "labels = [\"Easy\", \"Hard\"]\n",
    "\n",
    "x = np.arange(2)\n",
    "ax.bar(x, means, yerr=ses, capsize=6)\n",
    "ax.set_xticks(x)\n",
    "ax.set_xticklabels(labels)\n",
    "ax.set_ylim(0, 1.05)\n",
    "ax.set_ylabel(\"Pair Hit Rate\")\n",
    "ax.set_title(\"1B. Pair Hit Rate — Easy vs Hard\")\n",
    "\n",
    "plt.tight_layout()\n",
    "plt.savefig(\"Fig1B_Pair_HitRate.png\", dpi=300)\n",
    "plt.show()\n",
    "\n",
    "print(f\"1B p-value (Easy vs Hard, Pairs) = {p_1b:.4f} | n_easy={n_easy}, n_hard={n_hard}\")\n"
   ]
  },
  {
   "cell_type": "markdown",
   "id": "9302a456",
   "metadata": {},
   "source": [
    "## 2A. Easy Words — Negative vs Neutral"
   ]
  },
  {
   "cell_type": "code",
   "execution_count": 6,
   "id": "1d309308",
   "metadata": {},
   "outputs": [
    {
     "data": {
      "image/png": "[encoded data removed]",
      "text/plain": [
       "<Figure size 600x400 with 1 Axes>"
      ]
     },
     "metadata": {},
     "output_type": "display_data"
    },
    {
     "name": "stdout",
     "output_type": "stream",
     "text": [
      "2A p-value (Easy Words, Neg vs Neu) = 0.5212 | n_neg=12, n_neu=10\n"
     ]
    }
   ],
   "source": [
    "\n",
    "w_easy_neg = df.loc[(df[\"response\"]==\"easy\") & (df[\"condition\"]==\"neg\"), \"itemhit\"]\n",
    "w_easy_neu = df.loc[(df[\"response\"]==\"easy\") & (df[\"condition\"]==\"neu\"), \"itemhit\"]\n",
    "\n",
    "m_neg, se_neg, n_neg = group_stats(w_easy_neg)\n",
    "m_neu, se_neu, n_neu = group_stats(w_easy_neu)\n",
    "p_2a = two_group_ttest(w_easy_neg, w_easy_neu)\n",
    "\n",
    "fig, ax = plt.subplots(figsize=(6,4))\n",
    "means = [m_neg, m_neu]\n",
    "ses   = [se_neg, se_neu]\n",
    "labels = [\"Negative\", \"Neutral\"]\n",
    "\n",
    "x = np.arange(2)\n",
    "ax.bar(x, means, yerr=ses, capsize=6)\n",
    "ax.set_xticks(x)\n",
    "ax.set_xticklabels(labels)\n",
    "ax.set_ylim(0, 1.05)\n",
    "ax.set_ylabel(\"Word Hit Rate (Easy Only)\")\n",
    "ax.set_title(\"2A. Word Hit Rate (Easy Only) — Neg vs Neu\")\n",
    "\n",
    "plt.tight_layout()\n",
    "plt.savefig(\"Fig2A_EasyWord_Condition.png\", dpi=300)\n",
    "plt.show()\n",
    "\n",
    "print(f\"2A p-value (Easy Words, Neg vs Neu) = {p_2a:.4f} | n_neg={n_neg}, n_neu={n_neu}\")\n"
   ]
  },
  {
   "cell_type": "markdown",
   "id": "acc5b977",
   "metadata": {},
   "source": [
    "## 2B. Easy Pairs — Negative vs Neutral"
   ]
  },
  {
   "cell_type": "code",
   "execution_count": 7,
   "id": "8f7d7dc7",
   "metadata": {},
   "outputs": [
    {
     "data": {
      "image/png": "[encoded data removed]",
      "text/plain": [
       "<Figure size 600x400 with 1 Axes>"
      ]
     },
     "metadata": {},
     "output_type": "display_data"
    },
    {
     "name": "stdout",
     "output_type": "stream",
     "text": [
      "2B p-value (Easy Pairs, Neg vs Neu) = 0.8571 | n_neg=12, n_neu=10\n"
     ]
    }
   ],
   "source": [
    "\n",
    "p_easy_neg = df.loc[(df[\"response\"]==\"easy\") & (df[\"condition\"]==\"neg\"), \"pairhit\"]\n",
    "p_easy_neu = df.loc[(df[\"response\"]==\"easy\") & (df[\"condition\"]==\"neu\"), \"pairhit\"]\n",
    "\n",
    "m_neg, se_neg, n_neg = group_stats(p_easy_neg)\n",
    "m_neu, se_neu, n_neu = group_stats(p_easy_neu)\n",
    "p_2b = two_group_ttest(p_easy_neg, p_easy_neu)\n",
    "\n",
    "fig, ax = plt.subplots(figsize=(6,4))\n",
    "means = [m_neg, m_neu]\n",
    "ses   = [se_neg, se_neu]\n",
    "labels = [\"Negative\", \"Neutral\"]\n",
    "\n",
    "x = np.arange(2)\n",
    "ax.bar(x, means, yerr=ses, capsize=6)\n",
    "ax.set_xticks(x)\n",
    "ax.set_xticklabels(labels)\n",
    "ax.set_ylim(0, 1.05)\n",
    "ax.set_ylabel(\"Pair Hit Rate (Easy Only)\")\n",
    "ax.set_title(\"2B. Pair Hit Rate (Easy Only) — Neg vs Neu\")\n",
    "\n",
    "plt.tight_layout()\n",
    "plt.savefig(\"Fig2B_EasyPair_Condition.png\", dpi=300)\n",
    "plt.show()\n",
    "\n",
    "print(f\"2B p-value (Easy Pairs, Neg vs Neu) = {p_2b:.4f} | n_neg={n_neg}, n_neu={n_neu}\")\n"
   ]
  }
 ],
 "metadata": {
  "kernelspec": {
   "display_name": "Python 3 (ipykernel)",
   "language": "python",
   "name": "python3"
  },
  "language_info": {
   "codemirror_mode": {
    "name": "ipython",
    "version": 3
   },
   "file_extension": ".py",
   "mimetype": "text/x-python",
   "name": "python",
   "nbconvert_exporter": "python",
   "pygments_lexer": "ipython3",
   "version": "3.9.13"
  }
 },
 "nbformat": 4,
 "nbformat_minor": 5
}
